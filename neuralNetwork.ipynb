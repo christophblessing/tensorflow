{
 "metadata": {
  "language_info": {
   "codemirror_mode": {
    "name": "ipython",
    "version": 3
   },
   "file_extension": ".py",
   "mimetype": "text/x-python",
   "name": "python",
   "nbconvert_exporter": "python",
   "pygments_lexer": "ipython3",
   "version": "3.7.7-final"
  },
  "orig_nbformat": 2,
  "kernelspec": {
   "name": "python_defaultSpec_1595081490064",
   "display_name": "Python 3.7.7 64-bit ('tensorflow-sessions': conda)"
  }
 },
 "nbformat": 4,
 "nbformat_minor": 2,
 "cells": [
  {
   "cell_type": "code",
   "execution_count": 2,
   "metadata": {},
   "outputs": [],
   "source": [
    "import tensorflow as tf\n",
    "from tensorflow import keras\n",
    "import numpy as np\n",
    "import matplotlib.pyplot as plt"
   ]
  },
  {
   "cell_type": "markdown",
   "metadata": {},
   "source": [
    "# Neural Network\n",
    "Classify images of articles of clothing. Based on this [Python Notebook](https://colab.research.google.com/drive/1m2cg3D1x3j5vrFc-Cu0gMvc48gWyCOuG#forceEdit=true&sandboxMode=true&scrollTo=ZFQqW9r-ikJb).\n",
    "\n",
    "## Keras: Deep learning framework\n",
    "High level Neural Network API. Is user friendly, hides a lot of the mathematical complexity. Good for fast experimentation. No need to build neural networks from scratch.\n",
    "\n",
    "## What is a Neural Network\n",
    "Deep neural network: representation of data in layers.\n",
    "\"Deep\" = presence of multiple layers.\n",
    "Algorithms like linear regression do not transform or modify the data, has only one layer.\n",
    "A Neural Network applies specific operations to transform the data on each layer in order to learn more about it.\n",
    "By learning more it can make better predictions.\n",
    "\n",
    "### Data \n",
    "Four main categories of type of data:\n",
    "* Vector Data (2D)\n",
    "* Timeseries or Sequence (3D)\n",
    "* Image Data (4D)\n",
    "* Video Data (5D)\n",
    "\n",
    "### Layers \n",
    "Each NN contains multiple layers:\n",
    "* Input Layer: first layer, initial data is passed \n",
    "* Output Layer: last layer, once the data has passed trough all layers result is retrieved\n",
    "* Hidden Layer(s): all other layers. Not observable, at least one layer in NN. But can have unlimited amount. The more complex the NN is the more hidden layers.\n",
    "\n",
    "### Neurons\n",
    "Each layer is made up of neurons. Responsible for generating, holding or passing one numeric value.\n",
    "E.g. processing an image of 28 x 28 pixels = 784 pixels => 784 neurons in input layer.\n",
    "10 categories of image classes => 10 output neurons.\n",
    "Hidden layers has as many neurons as we want it to have.\n",
    "\n",
    "### Connected layers\n",
    "**dense** layer: each neuron in one layer is connected to all the neurons in the next layer.\n",
    "Can be connected in other ways.\n",
    "\n",
    "### Weights\n",
    "Every connection between neurons have a weight. It is modified during the training process as it sees the data.\n",
    "To achieve the result the NN will figure out these numbers.\n",
    "Weights start from a constant or random.\n",
    "\n",
    "### Biases\n",
    "Extra neuron without connection with constant value in each layer.\n",
    "Will also change during the training of the NN.\n",
    "Can shift each Activation Function.\n",
    "\n",
    "### Activation Function\n",
    "Is applied to the weighted sum of a neuron.\n",
    "Used to make better predictions.\n",
    "For example:\n",
    "* Relu = Rectified Linear unit. Values between 0 and infinity\n",
    "* Tanh = Hyperbolic Tangent. Values between -1 and 1\n",
    "* Sigmoid. Values between 0 and 1\n",
    "\n",
    "## Backpropagation\n",
    "Algorithm behind training of the network.\n",
    "Changes the weights and biases in the network.\n",
    "\n",
    "### Loss/ Cost Function\n",
    "Network starts not knowing what it is doing: ranodm weights, random biases.\n",
    "Evaluation of learning progress."
   ]
  },
  {
   "cell_type": "code",
   "execution_count": 3,
   "metadata": {
    "tags": []
   },
   "outputs": [],
   "source": [
    "fashion_mnist = keras.datasets.fashion_mnist  # load dataset\n",
    "\n",
    "(train_images, train_labels), (test_images, test_labels) = fashion_mnist.load_data()  # split into tetsing and training"
   ]
  },
  {
   "cell_type": "code",
   "execution_count": 4,
   "metadata": {},
   "outputs": [],
   "source": [
    "class_names = ['T-shirt/top', 'Trouser', 'Pullover', 'Dress', 'Coat',\n",
    "               'Sandal', 'Shirt', 'Sneaker', 'Bag', 'Ankle boot']"
   ]
  },
  {
   "cell_type": "code",
   "execution_count": 5,
   "metadata": {},
   "outputs": [
    {
     "output_type": "display_data",
     "data": {
      "text/plain": "<Figure size 432x288 with 2 Axes>",
      "image/svg+xml": "<?xml version=\"1.0\" encoding=\"utf-8\" standalone=\"no\"?>\n<!DOCTYPE svg PUBLIC \"-//W3C//DTD SVG 1.1//EN\"\n  \"http://www.w3.org/Graphics/SVG/1.1/DTD/svg11.dtd\">\n<!-- Created with matplotlib (https://matplotlib.org/) -->\n<svg height=\"248.518125pt\" version=\"1.1\" viewBox=\"0 0 305.2645 248.518125\" width=\"305.2645pt\" xmlns=\"http://www.w3.org/2000/svg\" xmlns:xlink=\"http://www.w3.org/1999/xlink\">\n <defs>\n  <style type=\"text/css\">\n*{stroke-linecap:butt;stroke-linejoin:round;}\n  </style>\n </defs>\n <g id=\"figure_1\">\n  <g id=\"patch_1\">\n   <path d=\"M 0 248.518125 \nL 305.2645 248.518125 \nL 305.2645 0 \nL 0 0 \nz\n\" style=\"fill:none;\"/>\n  </g>\n  <g id=\"axes_1\">\n   <g id=\"patch_2\">\n    <path d=\"M 26.925 224.64 \nL 244.365 224.64 \nL 244.365 7.2 \nL 26.925 7.2 \nz\n\" style=\"fill:#ffffff;\"/>\n   </g>\n   <g clip-path=\"url(#p8f2c40fd8b)\">\n    <image height=\"218\" id=\"image9be718f6c7\" transform=\"scale(1 -1)translate(0 -218)\" width=\"218\" x=\"26.925\" xlink:href=\"data:image/png;base64,\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\" y=\"-6.64\"/>\n   </g>\n   <g id=\"matplotlib.axis_1\">\n    <g id=\"xtick_1\">\n     <g id=\"line2d_1\">\n      <defs>\n       <path d=\"M 0 0 \nL 0 3.5 \n\" id=\"mb4482820be\" style=\"stroke:#000000;stroke-width:0.8;\"/>\n      </defs>\n      <g>\n       <use style=\"stroke:#000000;stroke-width:0.8;\" x=\"30.807857\" xlink:href=\"#mb4482820be\" y=\"224.64\"/>\n      </g>\n     </g>\n     <g id=\"text_1\">\n      <!-- 0 -->\n      <defs>\n       <path d=\"M 31.78125 66.40625 \nQ 24.171875 66.40625 20.328125 58.90625 \nQ 16.5 51.421875 16.5 36.375 \nQ 16.5 21.390625 20.328125 13.890625 \nQ 24.171875 6.390625 31.78125 6.390625 \nQ 39.453125 6.390625 43.28125 13.890625 \nQ 47.125 21.390625 47.125 36.375 \nQ 47.125 51.421875 43.28125 58.90625 \nQ 39.453125 66.40625 31.78125 66.40625 \nz\nM 31.78125 74.21875 \nQ 44.046875 74.21875 50.515625 64.515625 \nQ 56.984375 54.828125 56.984375 36.375 \nQ 56.984375 17.96875 50.515625 8.265625 \nQ 44.046875 -1.421875 31.78125 -1.421875 \nQ 19.53125 -1.421875 13.0625 8.265625 \nQ 6.59375 17.96875 6.59375 36.375 \nQ 6.59375 54.828125 13.0625 64.515625 \nQ 19.53125 74.21875 31.78125 74.21875 \nz\n\" id=\"DejaVuSans-48\"/>\n      </defs>\n      <g transform=\"translate(27.626607 239.238437)scale(0.1 -0.1)\">\n       <use xlink:href=\"#DejaVuSans-48\"/>\n      </g>\n     </g>\n    </g>\n    <g id=\"xtick_2\">\n     <g id=\"line2d_2\">\n      <g>\n       <use style=\"stroke:#000000;stroke-width:0.8;\" x=\"69.636429\" xlink:href=\"#mb4482820be\" y=\"224.64\"/>\n      </g>\n     </g>\n     <g id=\"text_2\">\n      <!-- 5 -->\n      <defs>\n       <path d=\"M 10.796875 72.90625 \nL 49.515625 72.90625 \nL 49.515625 64.59375 \nL 19.828125 64.59375 \nL 19.828125 46.734375 \nQ 21.96875 47.46875 24.109375 47.828125 \nQ 26.265625 48.1875 28.421875 48.1875 \nQ 40.625 48.1875 47.75 41.5 \nQ 54.890625 34.8125 54.890625 23.390625 \nQ 54.890625 11.625 47.5625 5.09375 \nQ 40.234375 -1.421875 26.90625 -1.421875 \nQ 22.3125 -1.421875 17.546875 -0.640625 \nQ 12.796875 0.140625 7.71875 1.703125 \nL 7.71875 11.625 \nQ 12.109375 9.234375 16.796875 8.0625 \nQ 21.484375 6.890625 26.703125 6.890625 \nQ 35.15625 6.890625 40.078125 11.328125 \nQ 45.015625 15.765625 45.015625 23.390625 \nQ 45.015625 31 40.078125 35.4375 \nQ 35.15625 39.890625 26.703125 39.890625 \nQ 22.75 39.890625 18.8125 39.015625 \nQ 14.890625 38.140625 10.796875 36.28125 \nz\n\" id=\"DejaVuSans-53\"/>\n      </defs>\n      <g transform=\"translate(66.455179 239.238437)scale(0.1 -0.1)\">\n       <use xlink:href=\"#DejaVuSans-53\"/>\n      </g>\n     </g>\n    </g>\n    <g id=\"xtick_3\">\n     <g id=\"line2d_3\">\n      <g>\n       <use style=\"stroke:#000000;stroke-width:0.8;\" x=\"108.465\" xlink:href=\"#mb4482820be\" y=\"224.64\"/>\n      </g>\n     </g>\n     <g id=\"text_3\">\n      <!-- 10 -->\n      <defs>\n       <path d=\"M 12.40625 8.296875 \nL 28.515625 8.296875 \nL 28.515625 63.921875 \nL 10.984375 60.40625 \nL 10.984375 69.390625 \nL 28.421875 72.90625 \nL 38.28125 72.90625 \nL 38.28125 8.296875 \nL 54.390625 8.296875 \nL 54.390625 0 \nL 12.40625 0 \nz\n\" id=\"DejaVuSans-49\"/>\n      </defs>\n      <g transform=\"translate(102.1025 239.238437)scale(0.1 -0.1)\">\n       <use xlink:href=\"#DejaVuSans-49\"/>\n       <use x=\"63.623047\" xlink:href=\"#DejaVuSans-48\"/>\n      </g>\n     </g>\n    </g>\n    <g id=\"xtick_4\">\n     <g id=\"line2d_4\">\n      <g>\n       <use style=\"stroke:#000000;stroke-width:0.8;\" x=\"147.293571\" xlink:href=\"#mb4482820be\" y=\"224.64\"/>\n      </g>\n     </g>\n     <g id=\"text_4\">\n      <!-- 15 -->\n      <g transform=\"translate(140.931071 239.238437)scale(0.1 -0.1)\">\n       <use xlink:href=\"#DejaVuSans-49\"/>\n       <use x=\"63.623047\" xlink:href=\"#DejaVuSans-53\"/>\n      </g>\n     </g>\n    </g>\n    <g id=\"xtick_5\">\n     <g id=\"line2d_5\">\n      <g>\n       <use style=\"stroke:#000000;stroke-width:0.8;\" x=\"186.122143\" xlink:href=\"#mb4482820be\" y=\"224.64\"/>\n      </g>\n     </g>\n     <g id=\"text_5\">\n      <!-- 20 -->\n      <defs>\n       <path d=\"M 19.1875 8.296875 \nL 53.609375 8.296875 \nL 53.609375 0 \nL 7.328125 0 \nL 7.328125 8.296875 \nQ 12.9375 14.109375 22.625 23.890625 \nQ 32.328125 33.6875 34.8125 36.53125 \nQ 39.546875 41.84375 41.421875 45.53125 \nQ 43.3125 49.21875 43.3125 52.78125 \nQ 43.3125 58.59375 39.234375 62.25 \nQ 35.15625 65.921875 28.609375 65.921875 \nQ 23.96875 65.921875 18.8125 64.3125 \nQ 13.671875 62.703125 7.8125 59.421875 \nL 7.8125 69.390625 \nQ 13.765625 71.78125 18.9375 73 \nQ 24.125 74.21875 28.421875 74.21875 \nQ 39.75 74.21875 46.484375 68.546875 \nQ 53.21875 62.890625 53.21875 53.421875 \nQ 53.21875 48.921875 51.53125 44.890625 \nQ 49.859375 40.875 45.40625 35.40625 \nQ 44.1875 33.984375 37.640625 27.21875 \nQ 31.109375 20.453125 19.1875 8.296875 \nz\n\" id=\"DejaVuSans-50\"/>\n      </defs>\n      <g transform=\"translate(179.759643 239.238437)scale(0.1 -0.1)\">\n       <use xlink:href=\"#DejaVuSans-50\"/>\n       <use x=\"63.623047\" xlink:href=\"#DejaVuSans-48\"/>\n      </g>\n     </g>\n    </g>\n    <g id=\"xtick_6\">\n     <g id=\"line2d_6\">\n      <g>\n       <use style=\"stroke:#000000;stroke-width:0.8;\" x=\"224.950714\" xlink:href=\"#mb4482820be\" y=\"224.64\"/>\n      </g>\n     </g>\n     <g id=\"text_6\">\n      <!-- 25 -->\n      <g transform=\"translate(218.588214 239.238437)scale(0.1 -0.1)\">\n       <use xlink:href=\"#DejaVuSans-50\"/>\n       <use x=\"63.623047\" xlink:href=\"#DejaVuSans-53\"/>\n      </g>\n     </g>\n    </g>\n   </g>\n   <g id=\"matplotlib.axis_2\">\n    <g id=\"ytick_1\">\n     <g id=\"line2d_7\">\n      <defs>\n       <path d=\"M 0 0 \nL -3.5 0 \n\" id=\"ma0bde36938\" style=\"stroke:#000000;stroke-width:0.8;\"/>\n      </defs>\n      <g>\n       <use style=\"stroke:#000000;stroke-width:0.8;\" x=\"26.925\" xlink:href=\"#ma0bde36938\" y=\"11.082857\"/>\n      </g>\n     </g>\n     <g id=\"text_7\">\n      <!-- 0 -->\n      <g transform=\"translate(13.5625 14.882076)scale(0.1 -0.1)\">\n       <use xlink:href=\"#DejaVuSans-48\"/>\n      </g>\n     </g>\n    </g>\n    <g id=\"ytick_2\">\n     <g id=\"line2d_8\">\n      <g>\n       <use style=\"stroke:#000000;stroke-width:0.8;\" x=\"26.925\" xlink:href=\"#ma0bde36938\" y=\"49.911429\"/>\n      </g>\n     </g>\n     <g id=\"text_8\">\n      <!-- 5 -->\n      <g transform=\"translate(13.5625 53.710647)scale(0.1 -0.1)\">\n       <use xlink:href=\"#DejaVuSans-53\"/>\n      </g>\n     </g>\n    </g>\n    <g id=\"ytick_3\">\n     <g id=\"line2d_9\">\n      <g>\n       <use style=\"stroke:#000000;stroke-width:0.8;\" x=\"26.925\" xlink:href=\"#ma0bde36938\" y=\"88.74\"/>\n      </g>\n     </g>\n     <g id=\"text_9\">\n      <!-- 10 -->\n      <g transform=\"translate(7.2 92.539219)scale(0.1 -0.1)\">\n       <use xlink:href=\"#DejaVuSans-49\"/>\n       <use x=\"63.623047\" xlink:href=\"#DejaVuSans-48\"/>\n      </g>\n     </g>\n    </g>\n    <g id=\"ytick_4\">\n     <g id=\"line2d_10\">\n      <g>\n       <use style=\"stroke:#000000;stroke-width:0.8;\" x=\"26.925\" xlink:href=\"#ma0bde36938\" y=\"127.568571\"/>\n      </g>\n     </g>\n     <g id=\"text_10\">\n      <!-- 15 -->\n      <g transform=\"translate(7.2 131.36779)scale(0.1 -0.1)\">\n       <use xlink:href=\"#DejaVuSans-49\"/>\n       <use x=\"63.623047\" xlink:href=\"#DejaVuSans-53\"/>\n      </g>\n     </g>\n    </g>\n    <g id=\"ytick_5\">\n     <g id=\"line2d_11\">\n      <g>\n       <use style=\"stroke:#000000;stroke-width:0.8;\" x=\"26.925\" xlink:href=\"#ma0bde36938\" y=\"166.397143\"/>\n      </g>\n     </g>\n     <g id=\"text_11\">\n      <!-- 20 -->\n      <g transform=\"translate(7.2 170.196362)scale(0.1 -0.1)\">\n       <use xlink:href=\"#DejaVuSans-50\"/>\n       <use x=\"63.623047\" xlink:href=\"#DejaVuSans-48\"/>\n      </g>\n     </g>\n    </g>\n    <g id=\"ytick_6\">\n     <g id=\"line2d_12\">\n      <g>\n       <use style=\"stroke:#000000;stroke-width:0.8;\" x=\"26.925\" xlink:href=\"#ma0bde36938\" y=\"205.225714\"/>\n      </g>\n     </g>\n     <g id=\"text_12\">\n      <!-- 25 -->\n      <g transform=\"translate(7.2 209.024933)scale(0.1 -0.1)\">\n       <use xlink:href=\"#DejaVuSans-50\"/>\n       <use x=\"63.623047\" xlink:href=\"#DejaVuSans-53\"/>\n      </g>\n     </g>\n    </g>\n   </g>\n   <g id=\"patch_3\">\n    <path d=\"M 26.925 224.64 \nL 26.925 7.2 \n\" style=\"fill:none;stroke:#000000;stroke-linecap:square;stroke-linejoin:miter;stroke-width:0.8;\"/>\n   </g>\n   <g id=\"patch_4\">\n    <path d=\"M 244.365 224.64 \nL 244.365 7.2 \n\" style=\"fill:none;stroke:#000000;stroke-linecap:square;stroke-linejoin:miter;stroke-width:0.8;\"/>\n   </g>\n   <g id=\"patch_5\">\n    <path d=\"M 26.925 224.64 \nL 244.365 224.64 \n\" style=\"fill:none;stroke:#000000;stroke-linecap:square;stroke-linejoin:miter;stroke-width:0.8;\"/>\n   </g>\n   <g id=\"patch_6\">\n    <path d=\"M 26.925 7.2 \nL 244.365 7.2 \n\" style=\"fill:none;stroke:#000000;stroke-linecap:square;stroke-linejoin:miter;stroke-width:0.8;\"/>\n   </g>\n  </g>\n  <g id=\"axes_2\">\n   <g id=\"patch_7\">\n    <path clip-path=\"url(#pf196a7e6cf)\" d=\"M 261.105 224.64 \nL 261.105 223.790625 \nL 261.105 8.049375 \nL 261.105 7.2 \nL 271.977 7.2 \nL 271.977 8.049375 \nL 271.977 223.790625 \nL 271.977 224.64 \nz\n\" style=\"fill:#ffffff;stroke:#ffffff;stroke-linejoin:miter;stroke-width:0.01;\"/>\n   </g>\n   <image height=\"217\" id=\"image940060fce9\" transform=\"scale(1 -1)translate(0 -217)\" width=\"11\" x=\"261\" xlink:href=\"data:image/png;base64,\niVBORw0KGgoAAAANSUhEUgAAAAsAAADZCAYAAAD2WsoCAAAABHNCSVQICAgIfAhkiAAAAIJJREFUaIHt0DEKwDAQA8HI+P9fTtorjSBglr16i9Mkyfsc3k5y2v4Zr7VueOOSWI0Z4zXwA9WoY7wGfqAaM8YPVKOO8Rr4gWrUMV4DP1CNOsZr4AeqMWP8QDXqGK+BH6hGHeM18APVqGO8Bn6gGnWM18APVGPG+IFq1DFeAz+QrvEB3UYHXpyDMvMAAAAASUVORK5CYII=\" y=\"-7\"/>\n   <g id=\"matplotlib.axis_3\"/>\n   <g id=\"matplotlib.axis_4\">\n    <g id=\"ytick_7\">\n     <g id=\"line2d_13\">\n      <defs>\n       <path d=\"M 0 0 \nL 3.5 0 \n\" id=\"m925c9652e4\" style=\"stroke:#000000;stroke-width:0.8;\"/>\n      </defs>\n      <g>\n       <use style=\"stroke:#000000;stroke-width:0.8;\" x=\"271.977\" xlink:href=\"#m925c9652e4\" y=\"224.64\"/>\n      </g>\n     </g>\n     <g id=\"text_13\">\n      <!-- 0 -->\n      <g transform=\"translate(278.977 228.439219)scale(0.1 -0.1)\">\n       <use xlink:href=\"#DejaVuSans-48\"/>\n      </g>\n     </g>\n    </g>\n    <g id=\"ytick_8\">\n     <g id=\"line2d_14\">\n      <g>\n       <use style=\"stroke:#000000;stroke-width:0.8;\" x=\"271.977\" xlink:href=\"#m925c9652e4\" y=\"182.004706\"/>\n      </g>\n     </g>\n     <g id=\"text_14\">\n      <!-- 50 -->\n      <g transform=\"translate(278.977 185.803925)scale(0.1 -0.1)\">\n       <use xlink:href=\"#DejaVuSans-53\"/>\n       <use x=\"63.623047\" xlink:href=\"#DejaVuSans-48\"/>\n      </g>\n     </g>\n    </g>\n    <g id=\"ytick_9\">\n     <g id=\"line2d_15\">\n      <g>\n       <use style=\"stroke:#000000;stroke-width:0.8;\" x=\"271.977\" xlink:href=\"#m925c9652e4\" y=\"139.369412\"/>\n      </g>\n     </g>\n     <g id=\"text_15\">\n      <!-- 100 -->\n      <g transform=\"translate(278.977 143.168631)scale(0.1 -0.1)\">\n       <use xlink:href=\"#DejaVuSans-49\"/>\n       <use x=\"63.623047\" xlink:href=\"#DejaVuSans-48\"/>\n       <use x=\"127.246094\" xlink:href=\"#DejaVuSans-48\"/>\n      </g>\n     </g>\n    </g>\n    <g id=\"ytick_10\">\n     <g id=\"line2d_16\">\n      <g>\n       <use style=\"stroke:#000000;stroke-width:0.8;\" x=\"271.977\" xlink:href=\"#m925c9652e4\" y=\"96.734118\"/>\n      </g>\n     </g>\n     <g id=\"text_16\">\n      <!-- 150 -->\n      <g transform=\"translate(278.977 100.533336)scale(0.1 -0.1)\">\n       <use xlink:href=\"#DejaVuSans-49\"/>\n       <use x=\"63.623047\" xlink:href=\"#DejaVuSans-53\"/>\n       <use x=\"127.246094\" xlink:href=\"#DejaVuSans-48\"/>\n      </g>\n     </g>\n    </g>\n    <g id=\"ytick_11\">\n     <g id=\"line2d_17\">\n      <g>\n       <use style=\"stroke:#000000;stroke-width:0.8;\" x=\"271.977\" xlink:href=\"#m925c9652e4\" y=\"54.098824\"/>\n      </g>\n     </g>\n     <g id=\"text_17\">\n      <!-- 200 -->\n      <g transform=\"translate(278.977 57.898042)scale(0.1 -0.1)\">\n       <use xlink:href=\"#DejaVuSans-50\"/>\n       <use x=\"63.623047\" xlink:href=\"#DejaVuSans-48\"/>\n       <use x=\"127.246094\" xlink:href=\"#DejaVuSans-48\"/>\n      </g>\n     </g>\n    </g>\n    <g id=\"ytick_12\">\n     <g id=\"line2d_18\">\n      <g>\n       <use style=\"stroke:#000000;stroke-width:0.8;\" x=\"271.977\" xlink:href=\"#m925c9652e4\" y=\"11.463529\"/>\n      </g>\n     </g>\n     <g id=\"text_18\">\n      <!-- 250 -->\n      <g transform=\"translate(278.977 15.262748)scale(0.1 -0.1)\">\n       <use xlink:href=\"#DejaVuSans-50\"/>\n       <use x=\"63.623047\" xlink:href=\"#DejaVuSans-53\"/>\n       <use x=\"127.246094\" xlink:href=\"#DejaVuSans-48\"/>\n      </g>\n     </g>\n    </g>\n   </g>\n   <g id=\"patch_8\">\n    <path d=\"M 261.105 224.64 \nL 261.105 223.790625 \nL 261.105 8.049375 \nL 261.105 7.2 \nL 271.977 7.2 \nL 271.977 8.049375 \nL 271.977 223.790625 \nL 271.977 224.64 \nz\n\" style=\"fill:none;stroke:#000000;stroke-linejoin:miter;stroke-width:0.8;\"/>\n   </g>\n  </g>\n </g>\n <defs>\n  <clipPath id=\"p8f2c40fd8b\">\n   <rect height=\"217.44\" width=\"217.44\" x=\"26.925\" y=\"7.2\"/>\n  </clipPath>\n  <clipPath id=\"pf196a7e6cf\">\n   <rect height=\"217.44\" width=\"10.872\" x=\"261.105\" y=\"7.2\"/>\n  </clipPath>\n </defs>\n</svg>\n",
      "image/png": "[encoded data removed]"
     },
     "metadata": {
      "needs_background": "light"
     }
    }
   ],
   "source": [
    "plt.figure()\n",
    "plt.imshow(train_images[0], cmap='gray')\n",
    "plt.colorbar()\n",
    "plt.show()"
   ]
  },
  {
   "cell_type": "code",
   "execution_count": 6,
   "metadata": {},
   "outputs": [],
   "source": [
    "train_images = train_images / 255.0\n",
    "test_images = test_images / 255.0"
   ]
  },
  {
   "cell_type": "code",
   "execution_count": 7,
   "metadata": {},
   "outputs": [],
   "source": [
    "input_layer = eras.layers.Flatten(input_shape=(28, 28)); # contains 28 x 28 pixle image\n",
    "hidden_layer = keras.layers.Dense(128, activation='relu'); # 128 neurons, I don't know why\n",
    "output_layer = keras.layers.Dense(10, activation='softmax') # 10 categories of clothing\n",
    "\n",
    "model = keras.Sequential([\n",
    "    input_layer, hidden_layer, output_layer\n",
    "])"
   ]
  },
  {
   "cell_type": "code",
   "execution_count": 8,
   "metadata": {},
   "outputs": [],
   "source": [
    "model.compile(optimizer='adam',\n",
    "              loss='sparse_categorical_crossentropy',\n",
    "              metrics=['accuracy'])"
   ]
  },
  {
   "cell_type": "code",
   "execution_count": 1,
   "metadata": {
    "tags": []
   },
   "outputs": [
    {
     "output_type": "error",
     "ename": "NameError",
     "evalue": "name 'model' is not defined",
     "traceback": [
      "\u001b[0;31m---------------------------------------------------------------------------\u001b[0m",
      "\u001b[0;31mNameError\u001b[0m                                 Traceback (most recent call last)",
      "\u001b[0;32m<ipython-input-1-e126e5caf70f>\u001b[0m in \u001b[0;36m<module>\u001b[0;34m\u001b[0m\n\u001b[0;32m----> 1\u001b[0;31m \u001b[0mmodel\u001b[0m\u001b[0;34m.\u001b[0m\u001b[0mfit\u001b[0m\u001b[0;34m(\u001b[0m\u001b[0mtrain_images\u001b[0m\u001b[0;34m,\u001b[0m \u001b[0mtrain_labels\u001b[0m\u001b[0;34m,\u001b[0m \u001b[0mepochs\u001b[0m\u001b[0;34m=\u001b[0m\u001b[0;36m1\u001b[0m\u001b[0;34m)\u001b[0m\u001b[0;34m\u001b[0m\u001b[0;34m\u001b[0m\u001b[0m\n\u001b[0m",
      "\u001b[0;31mNameError\u001b[0m: name 'model' is not defined"
     ]
    }
   ],
   "source": [
    "model.fit(train_images, train_labels, epochs=1)"
   ]
  },
  {
   "cell_type": "code",
   "execution_count": null,
   "metadata": {},
   "outputs": [],
   "source": []
  }
 ]
}