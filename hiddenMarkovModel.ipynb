{
 "cells": [
  {
   "cell_type": "markdown",
   "metadata": {},
   "source": [
    "# Hidden Markov Model\n",
    "\n",
    "* Finite set of state\n",
    "* Probability Distribution\n",
    "* Transition Probabilities\n",
    "\n",
    "Works with probability if future event or state occurs.\n",
    "The more steps we predict the less accurate it will be.\n",
    "\n",
    "## Data\n",
    "\n",
    "**States**\n",
    "\n",
    "**Observations**\n",
    "\n",
    "**Transitions**"
   ]
  },
  {
   "cell_type": "code",
   "execution_count": 1,
   "metadata": {},
   "outputs": [],
   "source": [
    "import tensorflow_probability as tfp\n",
    "import tensorflow as tf"
   ]
  },
  {
   "cell_type": "code",
   "execution_count": 23,
   "metadata": {},
   "outputs": [],
   "source": [
    "tfd = tfp.distributions\n",
    "initial_distribution = tfd.Categorical(probs=[0.2, 0.8])  # The first day in our sequence has an 20% chance of being cold\n",
    "transition_distribution = tfd.Categorical(probs=[[0.7, 0.3],\n",
    "                                                 [0.2, 0.8]])  # A cold day has a 30% chance of being followed by a hot day. A hot day has a 20% chance of being followed by a cold day.\n",
    "observation_distribution = tfd.Normal(loc=[0., 15.], scale=[5., 10.])  # On each day the temperature is normally distributed with mean and standard deviation 0 and 5 on a cold day and mean and standard deviation 15 and 10 on a hot day.\n",
    "\n",
    "# the loc argument represents the mean and the scale is the standard devitation\n",
    "\n",
    "model = tfd.HiddenMarkovModel(\n",
    "    initial_distribution=initial_distribution,\n",
    "    transition_distribution=transition_distribution,\n",
    "    observation_distribution=observation_distribution,\n",
    "    num_steps=7)"
   ]
  },
  {
   "cell_type": "code",
   "execution_count": 24,
   "metadata": {
    "tags": []
   },
   "outputs": [
    {
     "output_type": "stream",
     "name": "stdout",
     "text": "[12.       10.5       9.75      9.375     9.1875    9.09375   9.046875]\n"
    }
   ],
   "source": [
    "mean = model.mean() # calculated temperatures\n",
    "\n",
    "# due to the way TensorFlow works on a lower level we need to evaluate part of the graph\n",
    "# from within a session to see the value of this tensor\n",
    "\n",
    "# in the new version of tensorflow we need to use tf.compat.v1.Session() rather than just tf.Session()\n",
    "with tf.compat.v1.Session() as sess:  \n",
    "  print(mean.numpy())"
   ]
  },
  {
   "cell_type": "code",
   "execution_count": null,
   "metadata": {},
   "outputs": [],
   "source": []
  }
 ],
 "metadata": {
  "language_info": {
   "codemirror_mode": {
    "name": "ipython",
    "version": 3
   },
   "file_extension": ".py",
   "mimetype": "text/x-python",
   "name": "python",
   "nbconvert_exporter": "python",
   "pygments_lexer": "ipython3",
   "version": "3.7.7-final"
  },
  "orig_nbformat": 2,
  "kernelspec": {
   "name": "python_defaultSpec_1595001597128",
   "display_name": "Python 3.7.7 64-bit ('tensorflow-sessions': conda)"
  }
 },
 "nbformat": 4,
 "nbformat_minor": 2
}